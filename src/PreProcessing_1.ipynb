{
 "cells": [
  {
   "cell_type": "markdown",
   "metadata": {},
   "source": [
    "## **IMPORTES**"
   ]
  },
  {
   "cell_type": "code",
   "execution_count": null,
   "metadata": {},
   "outputs": [],
   "source": [
    "# Data handling\n",
    "import pandas as pd\n",
    "import numpy as np\n",
    "\n",
    "# Pre-processing data\n",
    "from sklearn.model_selection import train_test_split\n",
    "from sklearn.preprocessing import StandardScaler\n",
    "\n",
    "# Data visualization\n",
    "import matplotlib.pyplot as plt\n",
    "import seaborn as sns"
   ]
  },
  {
   "cell_type": "markdown",
   "metadata": {},
   "source": [
    "## **INTEGRAÇÃO DE DADOS**"
   ]
  },
  {
   "cell_type": "code",
   "execution_count": null,
   "metadata": {},
   "outputs": [],
   "source": [
    "train = pd.read_csv(filepath_or_buffer=\"../data/train.csv\")\n",
    "test = pd.read_csv(filepath_or_buffer=\"../data/test.csv\")\n",
    "df = pd.concat(objs=[train, test], axis=0, ignore_index=True, copy=True)"
   ]
  },
  {
   "cell_type": "markdown",
   "metadata": {},
   "source": [
    "## **LIMPEZA DE DADOS**"
   ]
  },
  {
   "cell_type": "code",
   "execution_count": null,
   "metadata": {},
   "outputs": [],
   "source": [
    "# Remoção de colunas não numéricas\n",
    "df = df.select_dtypes(exclude=['object'])\n",
    "df.drop(columns=['pctsomecol18_24'], inplace=True)"
   ]
  },
  {
   "cell_type": "code",
   "execution_count": null,
   "metadata": {},
   "outputs": [],
   "source": [
    "sns.boxplot(df['target_deathrate'])"
   ]
  },
  {
   "cell_type": "code",
   "execution_count": null,
   "metadata": {},
   "outputs": [],
   "source": [
    "print(df[(df['target_deathrate'] < 280)  & (df['target_deathrate'] > 70)].shape)\n",
    "print(df.shape)"
   ]
  },
  {
   "cell_type": "code",
   "execution_count": null,
   "metadata": {},
   "outputs": [],
   "source": [
    "df = df[(df['target_deathrate'] < 280)  & (df['target_deathrate'] > 70)]\n",
    "sns.boxplot(df['target_deathrate'])"
   ]
  },
  {
   "cell_type": "markdown",
   "metadata": {},
   "source": [
    "## **AMOSTRAGEM DE DADOS**"
   ]
  },
  {
   "cell_type": "code",
   "execution_count": null,
   "metadata": {},
   "outputs": [],
   "source": [
    "X = df.drop(columns=['target_deathrate'])\n",
    "y = df['target_deathrate']\n",
    "\n",
    "X_train, X_test, y_train, y_test = train_test_split(\n",
    "    X, y, test_size=0.2, random_state=42, shuffle=True\n",
    ")"
   ]
  },
  {
   "cell_type": "code",
   "execution_count": null,
   "metadata": {},
   "outputs": [],
   "source": [
    "print(y_train.shape)\n",
    "print(X_train.shape)\n",
    "print(y_test.shape)\n",
    "print(X_test.shape)"
   ]
  },
  {
   "cell_type": "markdown",
   "metadata": {},
   "source": [
    "## **VALORES FALTANTES**"
   ]
  },
  {
   "cell_type": "code",
   "execution_count": null,
   "metadata": {},
   "outputs": [],
   "source": [
    "pd.DataFrame(data={\n",
    "    \"Percentual (%)\": round((X_train.isnull().sum()[(X_train.isnull().sum() > 0)] / X_train.shape[0]) * 100, 2),\n",
    "    \"Quantidade\": X_train.isnull().sum()[(X_train.isnull().sum() > 0)]\n",
    "})"
   ]
  },
  {
   "cell_type": "code",
   "execution_count": null,
   "metadata": {},
   "outputs": [],
   "source": [
    "X_train['pctemployed16_over'] = X_train['pctemployed16_over'].fillna(value=X_train['pctemployed16_over'].mean())\n",
    "X_train['pctprivatecoveragealone'] = X_train['pctprivatecoveragealone'].fillna(value=X_train['pctprivatecoveragealone'].mean())"
   ]
  },
  {
   "cell_type": "code",
   "execution_count": null,
   "metadata": {},
   "outputs": [],
   "source": [
    "pd.DataFrame(data={\n",
    "    \"Percentual (%)\": round((X_test.isnull().sum()[(X_test.isnull().sum() > 0)] / X_test.shape[0]) * 100, 2),\n",
    "    \"Quantidade\": X_test.isnull().sum()[(X_test.isnull().sum() > 0)]\n",
    "})"
   ]
  },
  {
   "cell_type": "code",
   "execution_count": null,
   "metadata": {},
   "outputs": [],
   "source": [
    "X_test['pctemployed16_over'] = X_test['pctemployed16_over'].fillna(value=X_test['pctemployed16_over'].mean())\n",
    "X_test['pctprivatecoveragealone'] = X_test['pctprivatecoveragealone'].fillna(value=X_test['pctprivatecoveragealone'].mean())"
   ]
  },
  {
   "cell_type": "markdown",
   "metadata": {},
   "source": [
    "## **NORMALIZAÇÃO COLUNA ALVO**"
   ]
  },
  {
   "cell_type": "code",
   "execution_count": null,
   "metadata": {},
   "outputs": [],
   "source": [
    "y_train = np.log1p(y_train)\n",
    "y_test = np.log1p(y_test)"
   ]
  },
  {
   "cell_type": "code",
   "execution_count": null,
   "metadata": {},
   "outputs": [],
   "source": [
    "plt.figure(figsize=(10,5))\n",
    "sns.histplot(data=y_train, kde=True)"
   ]
  },
  {
   "cell_type": "code",
   "execution_count": null,
   "metadata": {},
   "outputs": [],
   "source": [
    "plt.figure(figsize=(10,5))\n",
    "sns.histplot(data=y_test, kde=True)"
   ]
  },
  {
   "cell_type": "markdown",
   "metadata": {},
   "source": [
    "## **PADRONIZAÇÃO DOS DADOS**\n",
    "\n",
    "\n",
    "### $z_{score} = \\frac{x - x_{media}}{x_{std}}$"
   ]
  },
  {
   "cell_type": "code",
   "execution_count": null,
   "metadata": {},
   "outputs": [],
   "source": [
    "scaler = StandardScaler()\n",
    "scaler.fit(X=X_train)\n",
    "\n",
    "X_train = scaler.transform(X=X_train)\n",
    "X_test = scaler.transform(X=X_test)"
   ]
  },
  {
   "cell_type": "markdown",
   "metadata": {},
   "source": [
    "## **PERSISTINDO DADOS**"
   ]
  },
  {
   "cell_type": "code",
   "execution_count": null,
   "metadata": {},
   "outputs": [],
   "source": [
    "train = pd.DataFrame(data=X_train, columns=df.drop(columns=['target_deathrate']).columns)\n",
    "train['target_deathrate'] = y_train.to_list()\n",
    "train.to_csv(path_or_buf='../data/train_process.csv', index=False)\n",
    "train"
   ]
  },
  {
   "cell_type": "code",
   "execution_count": null,
   "metadata": {},
   "outputs": [],
   "source": [
    "test = pd.DataFrame(data=X_test, columns=df.drop(columns=['target_deathrate']).columns)\n",
    "test['target_deathrate'] = y_test.to_list()\n",
    "test.to_csv(path_or_buf='../data/test_process.csv', index=False)\n",
    "test"
   ]
  },
  {
   "cell_type": "markdown",
   "metadata": {},
   "source": [
    "## **MATRIZ DE GRÁFICO DE DISPERÇÃO**"
   ]
  },
  {
   "cell_type": "code",
   "execution_count": null,
   "metadata": {},
   "outputs": [],
   "source": [
    "sns.pairplot(\n",
    "    data=train,\n",
    "    kind='reg',\n",
    "    plot_kws={'line_kws':{'color':'red'}}\n",
    ")  # 'reg' para adicionar linha de regressão"
   ]
  }
 ],
 "metadata": {
  "kernelspec": {
   "display_name": ".venv",
   "language": "python",
   "name": "python3"
  },
  "language_info": {
   "codemirror_mode": {
    "name": "ipython",
    "version": 3
   },
   "file_extension": ".py",
   "mimetype": "text/x-python",
   "name": "python",
   "nbconvert_exporter": "python",
   "pygments_lexer": "ipython3",
   "version": "3.12.3"
  }
 },
 "nbformat": 4,
 "nbformat_minor": 2
}
